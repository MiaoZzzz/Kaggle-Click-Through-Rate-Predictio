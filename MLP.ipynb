{
 "cells": [
  {
   "cell_type": "code",
   "execution_count": 1,
   "id": "22198824",
   "metadata": {},
   "outputs": [],
   "source": [
    "import tensorflow as tf\n",
    "from tensorflow import keras\n",
    "\n",
    "import os\n",
    "import tempfile\n",
    "\n",
    "import matplotlib as mpl\n",
    "import matplotlib.pyplot as plt\n",
    "import numpy as np\n",
    "import pandas as pd\n",
    "import seaborn as sns\n",
    "\n",
    "import sklearn\n",
    "from sklearn.metrics import confusion_matrix\n",
    "from sklearn.model_selection import train_test_split\n",
    "from sklearn.preprocessing import StandardScaler"
   ]
  },
  {
   "cell_type": "code",
   "execution_count": 2,
   "id": "3fe55df2",
   "metadata": {},
   "outputs": [
    {
     "name": "stdout",
     "output_type": "stream",
     "text": [
      "(2021448, 78)\n",
      "(4577464, 78)\n"
     ]
    }
   ],
   "source": [
    "train = pd.read_csv('tr_FE.csv')\n",
    "print(train.shape)\n",
    "test = pd.read_csv('ts_FE.csv')\n",
    "print(test.shape)\n",
    "\n",
    "train_df, val_df = train_test_split(train, test_size=0.2)"
   ]
  },
  {
   "cell_type": "code",
   "execution_count": 3,
   "id": "64646a5b",
   "metadata": {},
   "outputs": [],
   "source": [
    "y_train = train_df.click\n",
    "X_train = train_df.drop(['click', 'device_ip', 'Unnamed: 0'], axis = 1)\n",
    "\n",
    "y_val = val_df.click\n",
    "X_val = val_df.drop(['click', 'device_ip', 'Unnamed: 0'], axis = 1)"
   ]
  },
  {
   "cell_type": "code",
   "execution_count": null,
   "id": "4f3e5bee",
   "metadata": {},
   "outputs": [],
   "source": []
  },
  {
   "cell_type": "code",
   "execution_count": 4,
   "id": "f1cc32b1",
   "metadata": {},
   "outputs": [],
   "source": [
    "#构建训练模型\n",
    "METRICS = [\n",
    "#       keras.metrics.BinaryAccuracy(name='accuracy'),\n",
    "    tf.keras.metrics.BinaryCrossentropy(\n",
    "    name='binary_crossentropy', dtype=None, from_logits=False, label_smoothing=0\n",
    ")\n",
    "]\n",
    "\n",
    "\n",
    "\n",
    "def make_model(metrics=METRICS, output_bias=None):\n",
    "  if output_bias is not None:\n",
    "    output_bias = tf.keras.initializers.Constant(output_bias)\n",
    "  model = keras.Sequential([\n",
    "      keras.layers.Dense(\n",
    "          16, activation='relu',\n",
    "          input_shape=(X_train.shape[-1],),kernel_initializer='he_normal'),\n",
    "      keras.layers.Dropout(0.5),\n",
    "      keras.layers.Dense(128, activation='relu',kernel_initializer='he_normal'),\n",
    "      keras.layers.Dropout(0.5),\n",
    "      keras.layers.Dense(128, activation='relu',kernel_initializer='he_normal'),\n",
    "      keras.layers.Dropout(0.5),\n",
    "      keras.layers.Dense(16, activation='relu',kernel_initializer='he_normal'),\n",
    "      keras.layers.Dropout(0.5),\n",
    "      keras.layers.Dense(1, activation='sigmoid',kernel_initializer='he_normal'),\n",
    "                         #bias_initializer=output_bias),\n",
    "  ])\n",
    "\n",
    "  model.compile(\n",
    "      optimizer=keras.optimizers.Adam(lr=0.001),\n",
    "      loss=keras.losses.BinaryCrossentropy(),\n",
    "      metrics=metrics)\n",
    "\n",
    "  return model"
   ]
  },
  {
   "cell_type": "code",
   "execution_count": 5,
   "id": "6ac1501a",
   "metadata": {},
   "outputs": [
    {
     "name": "stdout",
     "output_type": "stream",
     "text": [
      "Examples:\n",
      "    Total: 1617158\n",
      "    Positive: 274482 (16.97% of total)\n",
      "\n"
     ]
    }
   ],
   "source": [
    "#查看正负样本比例\n",
    "neg, pos = np.bincount(y_train)\n",
    "total = neg + pos\n",
    "print('Examples:\\n    Total: {}\\n    Positive: {} ({:.2f}% of total)\\n'.format(\n",
    "    total, pos, 100 * pos / total))"
   ]
  },
  {
   "cell_type": "code",
   "execution_count": 6,
   "id": "9a8e3ec3",
   "metadata": {},
   "outputs": [
    {
     "data": {
      "text/plain": [
       "array([0.])"
      ]
     },
     "execution_count": 6,
     "metadata": {},
     "output_type": "execute_result"
    }
   ],
   "source": [
    "initial_bias = np.log([pos/neg])\n",
    "initial_bias = np.log([1])\n",
    "initial_bias"
   ]
  },
  {
   "cell_type": "code",
   "execution_count": 7,
   "id": "6417d7b9",
   "metadata": {},
   "outputs": [
    {
     "name": "stdout",
     "output_type": "stream",
     "text": [
      "Model: \"sequential\"\n",
      "_________________________________________________________________\n",
      "Layer (type)                 Output Shape              Param #   \n",
      "=================================================================\n",
      "dense (Dense)                (None, 16)                1216      \n",
      "_________________________________________________________________\n",
      "dropout (Dropout)            (None, 16)                0         \n",
      "_________________________________________________________________\n",
      "dense_1 (Dense)              (None, 128)               2176      \n",
      "_________________________________________________________________\n",
      "dropout_1 (Dropout)          (None, 128)               0         \n",
      "_________________________________________________________________\n",
      "dense_2 (Dense)              (None, 128)               16512     \n",
      "_________________________________________________________________\n",
      "dropout_2 (Dropout)          (None, 128)               0         \n",
      "_________________________________________________________________\n",
      "dense_3 (Dense)              (None, 16)                2064      \n",
      "_________________________________________________________________\n",
      "dropout_3 (Dropout)          (None, 16)                0         \n",
      "_________________________________________________________________\n",
      "dense_4 (Dense)              (None, 1)                 17        \n",
      "=================================================================\n",
      "Total params: 21,985\n",
      "Trainable params: 21,985\n",
      "Non-trainable params: 0\n",
      "_________________________________________________________________\n"
     ]
    }
   ],
   "source": [
    "EPOCHS = 5\n",
    "BATCH_SIZE = 32\n",
    "\n",
    "early_stopping = tf.keras.callbacks.EarlyStopping(\n",
    "    monitor='val_loss', \n",
    "    verbose=1,\n",
    "    patience=3,\n",
    "    mode='max',\n",
    "    restore_best_weights=True)\n",
    "\n",
    "#model = make_model()\n",
    "model = make_model(output_bias=initial_bias)\n",
    "model.summary()"
   ]
  },
  {
   "cell_type": "code",
   "execution_count": null,
   "id": "05aeeff8",
   "metadata": {},
   "outputs": [
    {
     "name": "stdout",
     "output_type": "stream",
     "text": [
      "Epoch 1/5\n",
      "40688/50537 [=======================>......] - ETA: 13s - loss: 23217523956283032.0000 - binary_crossentropy: 23217523956283032.0000"
     ]
    }
   ],
   "source": [
    "history = model.fit(\n",
    "    X_train,\n",
    "    y_train,\n",
    "    batch_size=BATCH_SIZE,\n",
    "    epochs=EPOCHS,\n",
    "    #callbacks=[early_stopping],\n",
    "    validation_data=(X_val, y_val))\n",
    "    #class_weight=class_weight)"
   ]
  },
  {
   "cell_type": "code",
   "execution_count": null,
   "id": "9538f7bf",
   "metadata": {},
   "outputs": [],
   "source": [
    "X_test = test.drop(['click', 'device_ip', 'Unnamed: 0'], axis = 1)\n",
    "#对原始test数据集进行切分\n",
    "test_id = pd.read_csv('./test',dtype = {'id':'str'})#读取训练集数据  \n",
    "test_id = test_id[['id']]\n",
    "\n",
    "#进行预测\n",
    "test_labels = model.predict(X_test)\n",
    "test_labels = test_labels.reshape(1,4577464)\n",
    "test_labels\n",
    "\n",
    "#生成返回csv\n",
    "s_id = test_id['id']\n",
    "s_click = pd.Series(test_labels[0])\n",
    "\n",
    "result = pd.DataFrame(list(zip(s_id, s_click)))\n",
    "new_col = ['id', 'click']\n",
    "\n",
    "result.columns = new_col\n",
    "result[\"id\"] = result[\"id\"].astype('str')\n",
    "result"
   ]
  },
  {
   "cell_type": "code",
   "execution_count": null,
   "id": "36211565",
   "metadata": {},
   "outputs": [],
   "source": [
    "result.to_csv('./Result',index=None) "
   ]
  },
  {
   "cell_type": "code",
   "execution_count": null,
   "id": "8327f5e5",
   "metadata": {},
   "outputs": [],
   "source": []
  }
 ],
 "metadata": {
  "kernelspec": {
   "display_name": "tf-gpu",
   "language": "python",
   "name": "tf-gpu"
  },
  "language_info": {
   "codemirror_mode": {
    "name": "ipython",
    "version": 3
   },
   "file_extension": ".py",
   "mimetype": "text/x-python",
   "name": "python",
   "nbconvert_exporter": "python",
   "pygments_lexer": "ipython3",
   "version": "3.8.8"
  }
 },
 "nbformat": 4,
 "nbformat_minor": 5
}
